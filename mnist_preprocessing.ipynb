{
  "nbformat": 4,
  "nbformat_minor": 0,
  "metadata": {
    "colab": {
      "provenance": []
    },
    "kernelspec": {
      "name": "python3",
      "display_name": "Python 3"
    },
    "language_info": {
      "name": "python"
    }
  },
  "cells": [
    {
      "cell_type": "code",
      "source": [
        "import keras\n",
        "import numpy as np\n",
        "\n",
        "from keras.datasets import mnist"
      ],
      "metadata": {
        "id": "As23njX54zrP"
      },
      "execution_count": 1,
      "outputs": []
    },
    {
      "cell_type": "code",
      "source": [
        "(train_X, train_y), (test_X, test_y) = mnist.load_data()"
      ],
      "metadata": {
        "id": "HU6EWuAV6DOs"
      },
      "execution_count": 2,
      "outputs": []
    },
    {
      "cell_type": "code",
      "source": [
        "training_X = []\n",
        "training_y = [] # one (1) or not one (0)"
      ],
      "metadata": {
        "id": "BkYeNAyf55em"
      },
      "execution_count": 3,
      "outputs": []
    },
    {
      "cell_type": "code",
      "source": [
        "# get the average color of each block\n",
        "def get_main_color(starting_a, starting_b, img):\n",
        "  sum = 0\n",
        "  for i in range(starting_a, starting_a + 8):\n",
        "    for j in range(starting_b, starting_b + 8):\n",
        "      sum += img[i][j]\n",
        "  if sum >= 5000:\n",
        "    return 1 # black\n",
        "  else:\n",
        "    return 0 # white"
      ],
      "metadata": {
        "id": "C4P1g9Op59T5"
      },
      "execution_count": 4,
      "outputs": []
    },
    {
      "cell_type": "code",
      "source": [
        "def make_img_black_white(img):\n",
        "  for i in range(len(img)):\n",
        "    for j in range(len(img[i])):\n",
        "      if img[i][j] <= 127:\n",
        "        img[i][j] = 0\n",
        "      else:\n",
        "        img[i][j] = 255"
      ],
      "metadata": {
        "id": "F_9wcyaQ8kWO"
      },
      "execution_count": 5,
      "outputs": []
    },
    {
      "cell_type": "code",
      "source": [
        "for i in range(len(train_X)):\n",
        "  if train_y[i] == 1:\n",
        "    training_y.append(1)\n",
        "    make_img_black_white(train_X[i])\n",
        "    training_X.append([get_main_color(1, 10, train_X[i]),\n",
        "                       get_main_color(10, 1, train_X[i]),\n",
        "                       get_main_color(10, 10, train_X[i]),\n",
        "                       get_main_color(10, 19, train_X[i]),\n",
        "                       get_main_color(19, 10, train_X[i])]) # TODO: expand to 9 boxes\n",
        "  if train_y[i] == 0: # can switch this line to an else if we want to\n",
        "    training_y.append(0)\n",
        "    make_img_black_white(train_X[i])\n",
        "    training_X.append([get_main_color(1, 10, train_X[i]),\n",
        "                       get_main_color(10, 1, train_X[i]),\n",
        "                       get_main_color(10, 10, train_X[i]),\n",
        "                       get_main_color(10, 19, train_X[i]),\n",
        "                       get_main_color(19, 10, train_X[i])]) # TODO: expand to 9 boxes"
      ],
      "metadata": {
        "id": "4pPC5kuu07Qw"
      },
      "execution_count": 6,
      "outputs": []
    },
    {
      "cell_type": "code",
      "source": [
        "print(len(training_X))\n",
        "print(len(training_y))"
      ],
      "metadata": {
        "colab": {
          "base_uri": "https://localhost:8080/"
        },
        "id": "iOPrSI3J9JB2",
        "outputId": "63d11118-1ce5-40d6-8de1-5de04cca7a1c"
      },
      "execution_count": 7,
      "outputs": [
        {
          "output_type": "stream",
          "name": "stdout",
          "text": [
            "12665\n",
            "12665\n"
          ]
        }
      ]
    }
  ]
}