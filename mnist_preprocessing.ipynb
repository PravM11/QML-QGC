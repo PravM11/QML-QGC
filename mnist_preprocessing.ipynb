{
  "cells": [
    {
      "cell_type": "code",
      "execution_count": 1,
      "metadata": {
        "id": "As23njX54zrP"
      },
      "outputs": [],
      "source": [
        "import keras\n",
        "import numpy as np\n",
        "\n",
        "from keras.datasets import mnist"
      ]
    },
    {
      "cell_type": "code",
      "execution_count": 2,
      "metadata": {
        "id": "HU6EWuAV6DOs"
      },
      "outputs": [],
      "source": [
        "(train_X, train_y), (test_X, test_y) = mnist.load_data()"
      ]
    },
    {
      "cell_type": "code",
      "execution_count": 3,
      "metadata": {
        "id": "BkYeNAyf55em"
      },
      "outputs": [],
      "source": [
        "training_X = []\n",
        "training_y = [] # one (1) or not one (0)"
      ]
    },
    {
      "cell_type": "code",
      "execution_count": 4,
      "metadata": {
        "id": "C4P1g9Op59T5"
      },
      "outputs": [],
      "source": [
        "# get the average color of each block\n",
        "def get_main_color(starting_a, starting_b, img):\n",
        "  sum = 0\n",
        "  for i in range(starting_a, starting_a + 8):\n",
        "    for j in range(starting_b, starting_b + 8):\n",
        "      sum += img[i][j]\n",
        "  if sum >= 5000:\n",
        "    return 1 # black\n",
        "  else:\n",
        "    return 0 # white"
      ]
    },
    {
      "cell_type": "code",
      "execution_count": 5,
      "metadata": {
        "id": "F_9wcyaQ8kWO"
      },
      "outputs": [],
      "source": [
        "def make_img_black_white(img):\n",
        "  for i in range(len(img)):\n",
        "    for j in range(len(img[i])):\n",
        "      if img[i][j] <= 127:\n",
        "        img[i][j] = 0\n",
        "      else:\n",
        "        img[i][j] = 255"
      ]
    },
    {
      "cell_type": "code",
      "execution_count": 6,
      "metadata": {
        "id": "4pPC5kuu07Qw"
      },
      "outputs": [],
      "source": [
        "for i in range(len(train_X)):\n",
        "  if train_y[i] == 1:\n",
        "    training_y.append(1)\n",
        "    make_img_black_white(train_X[i])\n",
        "    training_X.append([get_main_color(1, 10, train_X[i]),\n",
        "                       get_main_color(10, 1, train_X[i]),\n",
        "                       get_main_color(10, 10, train_X[i]),\n",
        "                       get_main_color(10, 19, train_X[i]),\n",
        "                       get_main_color(19, 10, train_X[i])]) # TODO: expand to 9 boxes\n",
        "  if train_y[i] == 0: # can switch this line to an else if we want to\n",
        "    training_y.append(0)\n",
        "    make_img_black_white(train_X[i])\n",
        "    training_X.append([get_main_color(1, 10, train_X[i]),\n",
        "                       get_main_color(10, 1, train_X[i]),\n",
        "                       get_main_color(10, 10, train_X[i]),\n",
        "                       get_main_color(10, 19, train_X[i]),\n",
        "                       get_main_color(19, 10, train_X[i])]) # TODO: expand to 9 boxes"
      ]
    },
    {
      "cell_type": "code",
      "execution_count": 7,
      "metadata": {
        "colab": {
          "base_uri": "https://localhost:8080/"
        },
        "id": "iOPrSI3J9JB2",
        "outputId": "63d11118-1ce5-40d6-8de1-5de04cca7a1c"
      },
      "outputs": [
        {
          "name": "stdout",
          "output_type": "stream",
          "text": [
            "12665\n",
            "12665\n"
          ]
        }
      ],
      "source": [
        "print(len(training_X))\n",
        "print(len(training_y))"
      ]
    }
  ],
  "metadata": {
    "colab": {
      "provenance": []
    },
    "kernelspec": {
      "display_name": "Python 3",
      "name": "python3"
    },
    "language_info": {
      "name": "python",
      "version": "3.10.9"
    }
  },
  "nbformat": 4,
  "nbformat_minor": 0
}
