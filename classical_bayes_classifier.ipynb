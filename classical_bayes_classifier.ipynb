{
  "cells": [
    {
      "cell_type": "code",
      "execution_count": null,
      "metadata": {
        "id": "eudCqsaQannz"
      },
      "outputs": [],
      "source": [
        "total_training_samples = 10\n",
        "num_training_grass = 3\n",
        "num_training_dont = 7\n",
        "\n",
        "init_guess_grass = num_training_grass / total_training_samples\n",
        "init_guess_dont = num_training_dont / total_training_samples\n",
        "\n",
        "# conditional probabilities\n",
        "rain_grass = 0.32\n",
        "sun_grass= 0.51\n",
        "snow_grass = 0.17\n",
        "rain_dont = 0.89\n",
        "sun_dont = 0.01\n",
        "snow_dont = 0.10\n",
        "\n",
        "grass_prob = [rain_grass, sun_grass, snow_grass]\n",
        "dont_prob = [rain_dont, sun_dont, snow_dont]"
      ]
    },
    {
      "cell_type": "code",
      "execution_count": null,
      "metadata": {
        "id": "JzEmmk2Nann0",
        "outputId": "3bb50b21-d7dd-41ab-ede0-5dc72ce969cf"
      },
      "outputs": [
        {
          "data": {
            "text/plain": [
              "0"
            ]
          },
          "execution_count": 7,
          "metadata": {},
          "output_type": "execute_result"
        }
      ],
      "source": [
        "test_vector = [1, 0, 0]\n",
        "test_label = [0] # don't touch grass\n",
        "\n",
        "grass_score = init_guess_grass\n",
        "dont_score = init_guess_dont\n",
        "for i in range(len(test_vector)):\n",
        "    if test_vector[i] == 1:\n",
        "        grass_score *= grass_prob[i]\n",
        "        dont_score *= dont_prob[i]\n",
        "\n",
        "if (grass_score > dont_score):\n",
        "    predicted_label = 1\n",
        "if (grass_score < dont_score):\n",
        "    predicted_label = 0\n",
        "\n",
        "predicted_label"
      ]
    },
    {
      "cell_type": "code",
      "execution_count": null,
      "metadata": {
        "id": "XMVjQDHBann1",
        "outputId": "5f370a8e-1086-4424-80b9-a3aff7255efc"
      },
      "outputs": [
        {
          "data": {
            "text/plain": [
              "1"
            ]
          },
          "execution_count": 8,
          "metadata": {},
          "output_type": "execute_result"
        }
      ],
      "source": [
        "test_vector = [1, 1, 0]\n",
        "test_label = [1] # touch grass\n",
        "\n",
        "grass_score = init_guess_grass\n",
        "dont_score = init_guess_dont\n",
        "for i in range(len(test_vector)):\n",
        "    if test_vector[i] == 1:\n",
        "        grass_score *= grass_prob[i]\n",
        "        dont_score *= dont_prob[i]\n",
        "\n",
        "if (grass_score > dont_score):\n",
        "    predicted_label = 1\n",
        "if (grass_score < dont_score):\n",
        "    predicted_label = 0\n",
        "\n",
        "predicted_label"
      ]
    }
  ],
  "metadata": {
    "kernelspec": {
      "display_name": "myvenv",
      "language": "python",
      "name": "python3"
    },
    "language_info": {
      "codemirror_mode": {
        "name": "ipython",
        "version": 3
      },
      "file_extension": ".py",
      "mimetype": "text/x-python",
      "name": "python",
      "nbconvert_exporter": "python",
      "pygments_lexer": "ipython3",
      "version": "3.10.7"
    },
    "colab": {
      "provenance": []
    }
  },
  "nbformat": 4,
  "nbformat_minor": 0
}